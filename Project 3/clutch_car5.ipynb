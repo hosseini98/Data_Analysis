{
 "cells": [
  {
   "cell_type": "markdown",
   "metadata": {},
   "source": [
    "# Crutch company's Used Vehicles"
   ]
  },
  {
   "cell_type": "markdown",
   "metadata": {},
   "source": [
    "Here, I would like to look at Clutch company's inventory of certified used vehicles. I will scrape the data from the Clutch company's website, clean them and finally visulize the results and analyse them."
   ]
  },
  {
   "cell_type": "markdown",
   "metadata": {},
   "source": [
    "## Data Scaping\n"
   ]
  },
  {
   "cell_type": "code",
   "execution_count": 445,
   "metadata": {
    "ExecuteTime": {
     "end_time": "2019-01-28T05:51:51.069351Z",
     "start_time": "2019-01-28T05:51:50.433075Z"
    }
   },
   "outputs": [],
   "source": [
    "\n",
    "import pandas as pd\n",
    "from requests import get\n",
    "from bs4 import BeautifulSoup\n",
    "import unicodedata\n",
    "from unicodedata import normalize\n"
   ]
  },
  {
   "cell_type": "markdown",
   "metadata": {},
   "source": [
    "I am going to use the BeautifulSoup library to parse the HTML content of this website."
   ]
  },
  {
   "cell_type": "code",
   "execution_count": null,
   "metadata": {
    "ExecuteTime": {
     "end_time": "2019-01-28T05:45:39.683897Z",
     "start_time": "2019-01-28T05:45:39.678362Z"
    }
   },
   "outputs": [],
   "source": [
    "url = '/Users/hossein/clutch.html'\n",
    "with open(url) as html_file:\n",
    "    html_soup = BeautifulSoup(html_file, 'html.parser')"
   ]
  },
  {
   "cell_type": "markdown",
   "metadata": {},
   "source": [
    "The following data will be extraced for each car:\n",
    "\n",
    "+ Model\n",
    "+ Make\n",
    "+ Price \n",
    "+ Mileage\n",
    "+ Year \n",
    "\n",
    "    "
   ]
  },
  {
   "cell_type": "code",
   "execution_count": 446,
   "metadata": {
    "ExecuteTime": {
     "end_time": "2019-01-28T05:51:51.224301Z",
     "start_time": "2019-01-28T05:51:51.073110Z"
    }
   },
   "outputs": [
    {
     "name": "stdout",
     "output_type": "stream",
     "text": [
      "<class 'bs4.element.ResultSet'>\n",
      "242\n"
     ]
    }
   ],
   "source": [
    "car_info_containers = html_soup.find_all('div', class_ = 'card_container vehicle-card_container card_container__clickable')\n",
    "print(type(car_info_containers))\n",
    "print(len(car_info_containers))"
   ]
  },
  {
   "cell_type": "code",
   "execution_count": 447,
   "metadata": {
    "ExecuteTime": {
     "end_time": "2019-01-28T05:51:51.234223Z",
     "start_time": "2019-01-28T05:51:51.228728Z"
    }
   },
   "outputs": [],
   "source": [
    "first_car_info = car_info_containers[0]"
   ]
  },
  {
   "cell_type": "code",
   "execution_count": 448,
   "metadata": {
    "ExecuteTime": {
     "end_time": "2019-01-28T05:51:51.249251Z",
     "start_time": "2019-01-28T05:51:51.238064Z"
    }
   },
   "outputs": [
    {
     "data": {
      "text/plain": [
       "'Ghibli Q4 '"
      ]
     },
     "execution_count": 448,
     "metadata": {},
     "output_type": "execute_result"
    }
   ],
   "source": [
    "model_info = first_car_info.find('div', class_ = 'vehicle-card_content_model').text\n",
    "model_info = normalize(\"NFKD\", model_info)\n",
    "model_info"
   ]
  },
  {
   "cell_type": "code",
   "execution_count": 449,
   "metadata": {
    "ExecuteTime": {
     "end_time": "2019-01-28T05:51:51.264489Z",
     "start_time": "2019-01-28T05:51:51.253957Z"
    }
   },
   "outputs": [
    {
     "data": {
      "text/plain": [
       "'Maserati'"
      ]
     },
     "execution_count": 449,
     "metadata": {},
     "output_type": "execute_result"
    }
   ],
   "source": [
    "make_info = first_car_info.find('div', class_ = 'vehicle-card_content_make').text\n",
    "make_info"
   ]
  },
  {
   "cell_type": "code",
   "execution_count": 450,
   "metadata": {
    "ExecuteTime": {
     "end_time": "2019-01-28T05:51:51.277097Z",
     "start_time": "2019-01-28T05:51:51.267752Z"
    }
   },
   "outputs": [
    {
     "data": {
      "text/plain": [
       "'$53,990'"
      ]
     },
     "execution_count": 450,
     "metadata": {},
     "output_type": "execute_result"
    }
   ],
   "source": [
    "price_info = first_car_info.find('div', class_ = 'vehicle-card_content_price').text\n",
    "price_info"
   ]
  },
  {
   "cell_type": "code",
   "execution_count": 451,
   "metadata": {
    "ExecuteTime": {
     "end_time": "2019-01-28T05:51:51.288976Z",
     "start_time": "2019-01-28T05:51:51.280012Z"
    }
   },
   "outputs": [
    {
     "data": {
      "text/plain": [
       "'2015\\xa0•\\xa070K\\xa0km'"
      ]
     },
     "execution_count": 451,
     "metadata": {},
     "output_type": "execute_result"
    }
   ],
   "source": [
    "year_mileage_info = first_car_info.find('div', class_ = 'vehicle-card_content_details_year-mileage').text\n",
    "year_mileage_info"
   ]
  },
  {
   "cell_type": "code",
   "execution_count": 452,
   "metadata": {
    "ExecuteTime": {
     "end_time": "2019-01-28T05:51:51.301563Z",
     "start_time": "2019-01-28T05:51:51.292902Z"
    }
   },
   "outputs": [
    {
     "data": {
      "text/plain": [
       "'$430\\xa0Biweekly'"
      ]
     },
     "execution_count": 452,
     "metadata": {},
     "output_type": "execute_result"
    }
   ],
   "source": [
    "biweekly_info = first_car_info.find('div', class_ = 'vehicle-card_content_details_biweekly').text\n",
    "biweekly_info"
   ]
  },
  {
   "cell_type": "code",
   "execution_count": 453,
   "metadata": {
    "ExecuteTime": {
     "end_time": "2019-01-28T05:51:51.311384Z",
     "start_time": "2019-01-28T05:51:51.304578Z"
    },
    "collapsed": true
   },
   "outputs": [],
   "source": [
    "model = []\n",
    "make = []\n",
    "price = []\n",
    "yearmileage = []\n",
    "biweekly = []"
   ]
  },
  {
   "cell_type": "code",
   "execution_count": 454,
   "metadata": {
    "ExecuteTime": {
     "end_time": "2019-01-28T05:51:51.657196Z",
     "start_time": "2019-01-28T05:51:51.314484Z"
    }
   },
   "outputs": [],
   "source": [
    "for container in car_info_containers:\n",
    "    model_info = container.find('div', class_ = 'vehicle-card_content_model').text\n",
    "    model_info = normalize(\"NFKD\", model_info) # to remove \\xa0 from string\n",
    "    model.append(model_info)\n",
    "    make_info = container.find('div', class_ = 'vehicle-card_content_make').text\n",
    "    make_info = normalize(\"NFKD\", make_info)\n",
    "    make.append(make_info)    \n",
    "    price_info = container.find('div', class_ = 'vehicle-card_content_price').text\n",
    "    price_info = normalize(\"NFKD\", price_info)\n",
    "    price.append(price_info)    \n",
    "    year_mileage_info = container.find('div', class_ = 'vehicle-card_content_details_year-mileage').text\n",
    "    year_mileage_info = normalize(\"NFKD\", year_mileage_info)\n",
    "    yearmileage.append(year_mileage_info)    \n",
    "    biweekly_info = container.find('div', class_ = 'vehicle-card_content_details_biweekly').text\n",
    "    biweekly_info = normalize(\"NFKD\", biweekly_info)\n",
    "    biweekly.append(biweekly_info)    \n",
    "    "
   ]
  },
  {
   "cell_type": "code",
   "execution_count": 455,
   "metadata": {
    "ExecuteTime": {
     "end_time": "2019-01-28T05:51:51.688765Z",
     "start_time": "2019-01-28T05:51:51.661488Z"
    }
   },
   "outputs": [
    {
     "name": "stdout",
     "output_type": "stream",
     "text": [
      "<class 'pandas.core.frame.DataFrame'>\n",
      "RangeIndex: 242 entries, 0 to 241\n",
      "Data columns (total 5 columns):\n",
      "model            242 non-null object\n",
      "make             242 non-null object\n",
      "price            242 non-null object\n",
      "year_mileage     242 non-null object\n",
      "biweekly_rate    242 non-null object\n",
      "dtypes: object(5)\n",
      "memory usage: 9.5+ KB\n",
      "None\n"
     ]
    },
    {
     "data": {
      "text/html": [
       "<div>\n",
       "<style scoped>\n",
       "    .dataframe tbody tr th:only-of-type {\n",
       "        vertical-align: middle;\n",
       "    }\n",
       "\n",
       "    .dataframe tbody tr th {\n",
       "        vertical-align: top;\n",
       "    }\n",
       "\n",
       "    .dataframe thead th {\n",
       "        text-align: right;\n",
       "    }\n",
       "</style>\n",
       "<table border=\"1\" class=\"dataframe\">\n",
       "  <thead>\n",
       "    <tr style=\"text-align: right;\">\n",
       "      <th></th>\n",
       "      <th>model</th>\n",
       "      <th>make</th>\n",
       "      <th>price</th>\n",
       "      <th>year_mileage</th>\n",
       "      <th>biweekly_rate</th>\n",
       "    </tr>\n",
       "  </thead>\n",
       "  <tbody>\n",
       "    <tr>\n",
       "      <th>0</th>\n",
       "      <td>Ghibli Q4</td>\n",
       "      <td>Maserati</td>\n",
       "      <td>$53,990</td>\n",
       "      <td>2015 • 70K km</td>\n",
       "      <td>$430 Biweekly</td>\n",
       "    </tr>\n",
       "    <tr>\n",
       "      <th>1</th>\n",
       "      <td>Civic Si</td>\n",
       "      <td>Honda</td>\n",
       "      <td>$18,800</td>\n",
       "      <td>2014 • 45K km</td>\n",
       "      <td>$151 Biweekly</td>\n",
       "    </tr>\n",
       "    <tr>\n",
       "      <th>2</th>\n",
       "      <td>RAV4 XLE</td>\n",
       "      <td>Toyota</td>\n",
       "      <td>$19,950</td>\n",
       "      <td>2015 • 79K km</td>\n",
       "      <td>$161 Biweekly</td>\n",
       "    </tr>\n",
       "    <tr>\n",
       "      <th>3</th>\n",
       "      <td>Mazda3 GT Premium</td>\n",
       "      <td>Mazda</td>\n",
       "      <td>$23,850</td>\n",
       "      <td>2018 • 24K km</td>\n",
       "      <td>$191 Biweekly</td>\n",
       "    </tr>\n",
       "    <tr>\n",
       "      <th>4</th>\n",
       "      <td>Highlander LE</td>\n",
       "      <td>Toyota</td>\n",
       "      <td>$26,200</td>\n",
       "      <td>2015 • 68K km</td>\n",
       "      <td>$210 Biweekly</td>\n",
       "    </tr>\n",
       "  </tbody>\n",
       "</table>\n",
       "</div>"
      ],
      "text/plain": [
       "                 model      make    price   year_mileage  biweekly_rate\n",
       "0           Ghibli Q4   Maserati  $53,990  2015 • 70K km  $430 Biweekly\n",
       "1            Civic Si      Honda  $18,800  2014 • 45K km  $151 Biweekly\n",
       "2            RAV4 XLE     Toyota  $19,950  2015 • 79K km  $161 Biweekly\n",
       "3  Mazda3 GT Premium       Mazda  $23,850  2018 • 24K km  $191 Biweekly\n",
       "4       Highlander LE     Toyota  $26,200  2015 • 68K km  $210 Biweekly"
      ]
     },
     "execution_count": 455,
     "metadata": {},
     "output_type": "execute_result"
    }
   ],
   "source": [
    "df = pd.DataFrame({'model': model,\n",
    "                       'make': make,\n",
    "                       'price': price,\n",
    "                       'year_mileage': yearmileage,\n",
    "                       'biweekly_rate': biweekly})\n",
    "\n",
    "print(df.info())\n",
    "\n",
    "df.head()"
   ]
  },
  {
   "cell_type": "markdown",
   "metadata": {},
   "source": [
    "## Data Cleaning"
   ]
  },
  {
   "cell_type": "code",
   "execution_count": 456,
   "metadata": {
    "ExecuteTime": {
     "end_time": "2019-01-28T05:51:51.730129Z",
     "start_time": "2019-01-28T05:51:51.691369Z"
    }
   },
   "outputs": [
    {
     "data": {
      "text/html": [
       "<div>\n",
       "<style scoped>\n",
       "    .dataframe tbody tr th:only-of-type {\n",
       "        vertical-align: middle;\n",
       "    }\n",
       "\n",
       "    .dataframe tbody tr th {\n",
       "        vertical-align: top;\n",
       "    }\n",
       "\n",
       "    .dataframe thead th {\n",
       "        text-align: right;\n",
       "    }\n",
       "</style>\n",
       "<table border=\"1\" class=\"dataframe\">\n",
       "  <thead>\n",
       "    <tr style=\"text-align: right;\">\n",
       "      <th></th>\n",
       "      <th>model</th>\n",
       "      <th>make</th>\n",
       "      <th>price</th>\n",
       "      <th>biweekly_rate</th>\n",
       "      <th>year</th>\n",
       "      <th>mileage</th>\n",
       "    </tr>\n",
       "  </thead>\n",
       "  <tbody>\n",
       "    <tr>\n",
       "      <th>0</th>\n",
       "      <td>Ghibli Q4</td>\n",
       "      <td>Maserati</td>\n",
       "      <td>53990</td>\n",
       "      <td>430</td>\n",
       "      <td>2015</td>\n",
       "      <td>70</td>\n",
       "    </tr>\n",
       "    <tr>\n",
       "      <th>1</th>\n",
       "      <td>Civic Si</td>\n",
       "      <td>Honda</td>\n",
       "      <td>18800</td>\n",
       "      <td>151</td>\n",
       "      <td>2014</td>\n",
       "      <td>45</td>\n",
       "    </tr>\n",
       "    <tr>\n",
       "      <th>2</th>\n",
       "      <td>RAV4 XLE</td>\n",
       "      <td>Toyota</td>\n",
       "      <td>19950</td>\n",
       "      <td>161</td>\n",
       "      <td>2015</td>\n",
       "      <td>79</td>\n",
       "    </tr>\n",
       "    <tr>\n",
       "      <th>3</th>\n",
       "      <td>Mazda3 GT Premium</td>\n",
       "      <td>Mazda</td>\n",
       "      <td>23850</td>\n",
       "      <td>191</td>\n",
       "      <td>2018</td>\n",
       "      <td>24</td>\n",
       "    </tr>\n",
       "    <tr>\n",
       "      <th>4</th>\n",
       "      <td>Highlander LE</td>\n",
       "      <td>Toyota</td>\n",
       "      <td>26200</td>\n",
       "      <td>210</td>\n",
       "      <td>2015</td>\n",
       "      <td>68</td>\n",
       "    </tr>\n",
       "  </tbody>\n",
       "</table>\n",
       "</div>"
      ],
      "text/plain": [
       "                 model      make  price biweekly_rate  year mileage\n",
       "0           Ghibli Q4   Maserati  53990          430   2015     70 \n",
       "1            Civic Si      Honda  18800          151   2014     45 \n",
       "2            RAV4 XLE     Toyota  19950          161   2015     79 \n",
       "3  Mazda3 GT Premium       Mazda  23850          191   2018     24 \n",
       "4       Highlander LE     Toyota  26200          210   2015     68 "
      ]
     },
     "execution_count": 456,
     "metadata": {},
     "output_type": "execute_result"
    }
   ],
   "source": [
    "\n",
    "dfcols = df.columns\n",
    "df[dfcols] = df[dfcols].replace({'\\$':'', 'Biweekly':'', '•':'', 'km':'', ',':''}, regex = True)\n",
    "df['year_mileage'] = df['year_mileage'].replace({'K':''}, regex = True)\n",
    "year_mileage = df[\"year_mileage\"].str.split(\"  \", n = 1, expand = True)\n",
    "df[\"year\"]= year_mileage[0] \n",
    "df[\"mileage\"]= year_mileage[1] \n",
    "df.drop(columns =[\"year_mileage\"], inplace = True)\n",
    "\n",
    "df.head()"
   ]
  },
  {
   "cell_type": "code",
   "execution_count": 457,
   "metadata": {
    "ExecuteTime": {
     "end_time": "2019-01-28T05:51:51.744539Z",
     "start_time": "2019-01-28T05:51:51.732948Z"
    }
   },
   "outputs": [],
   "source": [
    "df['price'] = df['price'].astype(float)\n",
    "df['biweekly_rate'] = df['biweekly_rate'].astype(float)\n",
    "df['year'] = df['year'].astype(int)\n",
    "df['mileage'] = df['mileage'].astype(int)*1000\n",
    "df['model'] = df['model'].astype(str)\n",
    "df['make'] = df['make'].astype(str)\n"
   ]
  },
  {
   "cell_type": "code",
   "execution_count": 458,
   "metadata": {
    "ExecuteTime": {
     "end_time": "2019-01-28T05:51:51.761976Z",
     "start_time": "2019-01-28T05:51:51.747474Z"
    }
   },
   "outputs": [
    {
     "data": {
      "text/html": [
       "<div>\n",
       "<style scoped>\n",
       "    .dataframe tbody tr th:only-of-type {\n",
       "        vertical-align: middle;\n",
       "    }\n",
       "\n",
       "    .dataframe tbody tr th {\n",
       "        vertical-align: top;\n",
       "    }\n",
       "\n",
       "    .dataframe thead th {\n",
       "        text-align: right;\n",
       "    }\n",
       "</style>\n",
       "<table border=\"1\" class=\"dataframe\">\n",
       "  <thead>\n",
       "    <tr style=\"text-align: right;\">\n",
       "      <th></th>\n",
       "      <th>model</th>\n",
       "      <th>make</th>\n",
       "      <th>price</th>\n",
       "      <th>biweekly_rate</th>\n",
       "      <th>year</th>\n",
       "      <th>mileage</th>\n",
       "    </tr>\n",
       "  </thead>\n",
       "  <tbody>\n",
       "    <tr>\n",
       "      <th>0</th>\n",
       "      <td>Ghibli Q4</td>\n",
       "      <td>Maserati</td>\n",
       "      <td>53990.0</td>\n",
       "      <td>430.0</td>\n",
       "      <td>2015</td>\n",
       "      <td>70000</td>\n",
       "    </tr>\n",
       "    <tr>\n",
       "      <th>1</th>\n",
       "      <td>Civic Si</td>\n",
       "      <td>Honda</td>\n",
       "      <td>18800.0</td>\n",
       "      <td>151.0</td>\n",
       "      <td>2014</td>\n",
       "      <td>45000</td>\n",
       "    </tr>\n",
       "    <tr>\n",
       "      <th>2</th>\n",
       "      <td>RAV4 XLE</td>\n",
       "      <td>Toyota</td>\n",
       "      <td>19950.0</td>\n",
       "      <td>161.0</td>\n",
       "      <td>2015</td>\n",
       "      <td>79000</td>\n",
       "    </tr>\n",
       "    <tr>\n",
       "      <th>3</th>\n",
       "      <td>Mazda3 GT Premium</td>\n",
       "      <td>Mazda</td>\n",
       "      <td>23850.0</td>\n",
       "      <td>191.0</td>\n",
       "      <td>2018</td>\n",
       "      <td>24000</td>\n",
       "    </tr>\n",
       "    <tr>\n",
       "      <th>4</th>\n",
       "      <td>Highlander LE</td>\n",
       "      <td>Toyota</td>\n",
       "      <td>26200.0</td>\n",
       "      <td>210.0</td>\n",
       "      <td>2015</td>\n",
       "      <td>68000</td>\n",
       "    </tr>\n",
       "  </tbody>\n",
       "</table>\n",
       "</div>"
      ],
      "text/plain": [
       "                 model      make    price  biweekly_rate  year  mileage\n",
       "0           Ghibli Q4   Maserati  53990.0          430.0  2015    70000\n",
       "1            Civic Si      Honda  18800.0          151.0  2014    45000\n",
       "2            RAV4 XLE     Toyota  19950.0          161.0  2015    79000\n",
       "3  Mazda3 GT Premium       Mazda  23850.0          191.0  2018    24000\n",
       "4       Highlander LE     Toyota  26200.0          210.0  2015    68000"
      ]
     },
     "execution_count": 458,
     "metadata": {},
     "output_type": "execute_result"
    }
   ],
   "source": [
    "df.head()\n"
   ]
  },
  {
   "cell_type": "markdown",
   "metadata": {
    "ExecuteTime": {
     "end_time": "2019-01-28T05:32:12.409058Z",
     "start_time": "2019-01-28T05:32:12.318203Z"
    }
   },
   "source": [
    "## Data Visualization\n",
    "\n",
    "\n",
    " \n",
    "\n"
   ]
  },
  {
   "cell_type": "code",
   "execution_count": 459,
   "metadata": {
    "ExecuteTime": {
     "end_time": "2019-01-28T06:01:33.599370Z",
     "start_time": "2019-01-28T06:01:32.207724Z"
    },
    "collapsed": true
   },
   "outputs": [],
   "source": [
    "from pandas.tools.plotting import scatter_matrix\n",
    "\n",
    "import matplotlib.pyplot as plt\n",
    "from pylab import rcParams\n",
    "import seaborn as sb"
   ]
  },
  {
   "cell_type": "code",
   "execution_count": 460,
   "metadata": {
    "ExecuteTime": {
     "end_time": "2019-01-28T06:01:34.798661Z",
     "start_time": "2019-01-28T06:01:34.777286Z"
    },
    "collapsed": true
   },
   "outputs": [],
   "source": [
    "%matplotlib inline\n",
    "rcParams['figure.figsize'] = 5, 4\n",
    "sb.set_style('whitegrid')"
   ]
  },
  {
   "cell_type": "code",
   "execution_count": 482,
   "metadata": {
    "ExecuteTime": {
     "end_time": "2019-01-28T06:23:32.033682Z",
     "start_time": "2019-01-28T06:23:31.867491Z"
    }
   },
   "outputs": [
    {
     "data": {
      "text/plain": [
       "Text(0.5,1,'Year vs Price')"
      ]
     },
     "execution_count": 482,
     "metadata": {},
     "output_type": "execute_result"
    },
    {
     "data": {
      "image/png": "[encoded data removed]",
      "text/plain": [
       "<matplotlib.figure.Figure at 0x1a2281e1d0>"
      ]
     },
     "metadata": {},
     "output_type": "display_data"
    }
   ],
   "source": [
    "df.plot(kind='scatter', x='year', y='price', c=['darkgray'], s=150)\n",
    "\n",
    "plt.xlabel('year')\n",
    "plt.ylabel('price')\n",
    "plt.title('Year vs Price')"
   ]
  },
  {
   "cell_type": "code",
   "execution_count": 465,
   "metadata": {
    "ExecuteTime": {
     "end_time": "2019-01-28T06:06:33.669814Z",
     "start_time": "2019-01-28T06:06:33.175624Z"
    }
   },
   "outputs": [
    {
     "data": {
      "text/plain": [
       "<matplotlib.axes._subplots.AxesSubplot at 0x1a211086a0>"
      ]
     },
     "execution_count": 465,
     "metadata": {},
     "output_type": "execute_result"
    },
    {
     "data": {
      "image/png": "[encoded data removed]",
      "text/plain": [
       "<matplotlib.figure.Figure at 0x1a210fb710>"
      ]
     },
     "metadata": {},
     "output_type": "display_data"
    }
   ],
   "source": [
    "sb.regplot(x='mileage', y='price', data=df, scatter=True)"
   ]
  },
  {
   "cell_type": "code",
   "execution_count": 466,
   "metadata": {
    "ExecuteTime": {
     "end_time": "2019-01-28T06:07:04.788249Z",
     "start_time": "2019-01-28T06:07:03.089658Z"
    }
   },
   "outputs": [
    {
     "data": {
      "text/plain": [
       "<seaborn.axisgrid.PairGrid at 0x1a20f74f28>"
      ]
     },
     "execution_count": 466,
     "metadata": {},
     "output_type": "execute_result"
    },
    {
     "data": {
      "image/png": "[encoded data removed]",
      "text/plain": [
       "<matplotlib.figure.Figure at 0x1a2101ae10>"
      ]
     },
     "metadata": {},
     "output_type": "display_data"
    }
   ],
   "source": [
    "sb.pairplot(df)"
   ]
  },
  {
   "cell_type": "code",
   "execution_count": 476,
   "metadata": {
    "ExecuteTime": {
     "end_time": "2019-01-28T06:18:09.014771Z",
     "start_time": "2019-01-28T06:18:08.669231Z"
    }
   },
   "outputs": [
    {
     "data": {
      "text/plain": [
       "<matplotlib.axes._subplots.AxesSubplot at 0x1a221bb470>"
      ]
     },
     "execution_count": 476,
     "metadata": {},
     "output_type": "execute_result"
    },
    {
     "data": {
      "image/png": "[encoded data removed]",
      "text/plain": [
       "<matplotlib.figure.Figure at 0x1a223a7d68>"
      ]
     },
     "metadata": {},
     "output_type": "display_data"
    }
   ],
   "source": [
    "df.boxplot(column='price', by='year')"
   ]
  },
  {
   "cell_type": "code",
   "execution_count": 480,
   "metadata": {
    "ExecuteTime": {
     "end_time": "2019-01-28T06:22:31.834637Z",
     "start_time": "2019-01-28T06:22:31.637231Z"
    }
   },
   "outputs": [
    {
     "data": {
      "text/plain": [
       "<matplotlib.axes._subplots.AxesSubplot at 0x1a22564630>"
      ]
     },
     "execution_count": 480,
     "metadata": {},
     "output_type": "execute_result"
    },
    {
     "data": {
      "image/png": "[encoded data removed]",
      "text/plain": [
       "<matplotlib.figure.Figure at 0x1a225355c0>"
      ]
     },
     "metadata": {},
     "output_type": "display_data"
    }
   ],
   "source": [
    "\n",
    "df = df[['year', 'mileage', 'price']]\n",
    "df.plot()"
   ]
  },
  {
   "cell_type": "code",
   "execution_count": 477,
   "metadata": {
    "ExecuteTime": {
     "end_time": "2019-01-28T06:19:18.607842Z",
     "start_time": "2019-01-28T06:19:18.598901Z"
    }
   },
   "outputs": [
    {
     "data": {
      "text/plain": [
       "53990.0"
      ]
     },
     "execution_count": 477,
     "metadata": {},
     "output_type": "execute_result"
    }
   ],
   "source": [
    "df['price'].max()"
   ]
  },
  {
   "cell_type": "code",
   "execution_count": 491,
   "metadata": {
    "ExecuteTime": {
     "end_time": "2019-01-28T06:28:15.467539Z",
     "start_time": "2019-01-28T06:28:14.029125Z"
    }
   },
   "outputs": [
    {
     "data": {
      "text/plain": [
       "<matplotlib.axes._subplots.AxesSubplot at 0x1a22fad898>"
      ]
     },
     "execution_count": 491,
     "metadata": {},
     "output_type": "execute_result"
    },
    {
     "data": {
      "image/png": "[encoded data removed]",
      "text/plain": [
       "<matplotlib.figure.Figure at 0x1a22174f60>"
      ]
     },
     "metadata": {},
     "output_type": "display_data"
    }
   ],
   "source": [
    "df['price'].plot(kind='bar')"
   ]
  },
  {
   "cell_type": "code",
   "execution_count": null,
   "metadata": {
    "ExecuteTime": {
     "end_time": "2019-01-28T06:39:29.017068Z",
     "start_time": "2019-01-28T06:39:28.850152Z"
    }
   },
   "outputs": [],
   "source": [
    "\n",
    "\n",
    "\n"
   ]
  },
  {
   "cell_type": "code",
   "execution_count": null,
   "metadata": {
    "collapsed": true
   },
   "outputs": [],
   "source": []
  }
 ],
 "metadata": {
  "hide_input": false,
  "kernelspec": {
   "display_name": "Python 3",
   "language": "python",
   "name": "python3"
  },
  "language_info": {
   "codemirror_mode": {
    "name": "ipython",
    "version": 3
   },
   "file_extension": ".py",
   "mimetype": "text/x-python",
   "name": "python",
   "nbconvert_exporter": "python",
   "pygments_lexer": "ipython3",
   "version": "3.6.8"
  },
  "latex_envs": {
   "LaTeX_envs_menu_present": true,
   "autoclose": false,
   "autocomplete": true,
   "bibliofile": "biblio.bib",
   "cite_by": "apalike",
   "current_citInitial": 1,
   "eqLabelWithNumbers": true,
   "eqNumInitial": 1,
   "hotkeys": {
    "equation": "Ctrl-E",
    "itemize": "Ctrl-I"
   },
   "labels_anchors": false,
   "latex_user_defs": false,
   "report_style_numbering": false,
   "user_envs_cfg": false
  },
  "toc": {
   "base_numbering": 1,
   "nav_menu": {},
   "number_sections": true,
   "sideBar": true,
   "skip_h1_title": false,
   "title_cell": "Table of Contents",
   "title_sidebar": "Contents",
   "toc_cell": false,
   "toc_position": {},
   "toc_section_display": true,
   "toc_window_display": false
  },
  "varInspector": {
   "cols": {
    "lenName": 16,
    "lenType": 16,
    "lenVar": 40
   },
   "kernels_config": {
    "python": {
     "delete_cmd_postfix": "",
     "delete_cmd_prefix": "del ",
     "library": "var_list.py",
     "varRefreshCmd": "print(var_dic_list())"
    },
    "r": {
     "delete_cmd_postfix": ") ",
     "delete_cmd_prefix": "rm(",
     "library": "var_list.r",
     "varRefreshCmd": "cat(var_dic_list()) "
    }
   },
   "types_to_exclude": [
    "module",
    "function",
    "builtin_function_or_method",
    "instance",
    "_Feature"
   ],
   "window_display": false
  }
 },
 "nbformat": 4,
 "nbformat_minor": 2
}
